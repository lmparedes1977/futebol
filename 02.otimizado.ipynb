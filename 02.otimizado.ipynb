{
    "cells": [
        {
            "attachments": {},
            "cell_type": "markdown",
            "metadata": {},
            "source": [
                "# Novo Projeto Django"
            ]
        },
        {
            "attachments": {},
            "cell_type": "markdown",
            "metadata": {},
            "source": [
                "Este é um documento com o passo-a-passo da criação de um projeto em Django de forma eficiente, sem as idas e vindas do material de aula."
            ]
        },
        {
            "attachments": {},
            "cell_type": "markdown",
            "metadata": {},
            "source": [
                "Para este projeto, vai ser criado um projeto chamado `futebol`, onde os aplicativos (subdomínios) serão pertencentes a clubes de futebol."
            ]
        },
        {
            "attachments": {},
            "cell_type": "markdown",
            "metadata": {},
            "source": [
                "## Preparando os Programas"
            ]
        },
        {
            "attachments": {},
            "cell_type": "markdown",
            "metadata": {},
            "source": [
                "### Visual Studio Code"
            ]
        },
        {
            "attachments": {},
            "cell_type": "markdown",
            "metadata": {},
            "source": [
                "Para este projeto, será usado o `Visual Studio Code` (`VS Code`).\n",
                "\n",
                "Para baixá-lo, basta entrar no site do [VS Code](https://code.visualstudio.com/) e clicar em `Download` que a versão para seu sistema operacional será baixado automaticamente.\n",
                "\n",
                "Siga os passos da instalação apresentados."
            ]
        },
        {
            "attachments": {},
            "cell_type": "markdown",
            "metadata": {},
            "source": [
                "Após instalador, usaremos as seguintes extensões :\n",
                "- ms-python.python;\n",
                "- batisteo.vscode-django;\n",
                "- VisualStudioExptTeam.vscodeintellicode;\n",
                "- ms-toolsai.jupyter;"
            ]
        },
        {
            "attachments": {},
            "cell_type": "markdown",
            "metadata": {},
            "source": [
                "### Python > 3.9"
            ]
        },
        {
            "attachments": {},
            "cell_type": "markdown",
            "metadata": {},
            "source": [
                "Baixe a última versão do [Python aqui](https://www.python.org/downloads/).\n",
                "\n",
                "Após baixado, instale para seu `usuário` ou como `administrador`. O importante para ambos os casos é marcar a opção `Add Python to environment variables`. Isso vai garantir que o programa seja encontrado por qualquer aplicação do seu computador.\n",
                "\n",
                "Para se certificar que o Python está corretamente instalado, abra o `Promtp de Comando` e digite :"
            ]
        },
        {
            "cell_type": "code",
            "execution_count": null,
            "metadata": {
                "vscode": {
                    "languageId": "shellscript"
                }
            },
            "outputs": [],
            "source": [
                "# no prompt de comando\n",
                "C:\\Users\\<seu usuario>\\Desktop>python --version\n",
                "Python 3.11.1"
            ]
        },
        {
            "cell_type": "code",
            "execution_count": null,
            "metadata": {
                "vscode": {
                    "languageId": "shellscript"
                }
            },
            "outputs": [],
            "source": [
                "# no prompt de comando\n",
                "C:\\Users\\<seu usuario>\\Desktop>python -VV\n",
                "Python 3.11.1 (tags/v3.11.1:a7a450f, Dec  6 2022, 19:58:39) [MSC v.1934 64 bit (AMD64)]"
            ]
        },
        {
            "attachments": {},
            "cell_type": "markdown",
            "metadata": {},
            "source": [
                "Qualquer uma das formas usadas acima, deve resultar no resultado mostrado abaixo do comando, conforme visto acima."
            ]
        },
        {
            "attachments": {},
            "cell_type": "markdown",
            "metadata": {},
            "source": [
                "Caso isso não aconteça, visite esse tutorial do [Real Python](https://realpython.com/add-python-to-path/), onde mostra como adicionar o Python às variáveis de ambientes dos sistemas operacionais `Windows`, `Linux` e `MacOS`."
            ]
        },
        {
            "attachments": {},
            "cell_type": "markdown",
            "metadata": {},
            "source": [
                "## Criando a Pasta do Projeto"
            ]
        },
        {
            "attachments": {},
            "cell_type": "markdown",
            "metadata": {},
            "source": [
                "O primeiro passo é criar a pasta do projeto diretamente no Windows Explorer ou então pelo terminal. Para este tutorial, vamos chamar ela de `futebol` e será criada no `Desktop`.\n",
                "\n",
                "Após criada a pasta, usamos o VS Code para abrir a pasta.\n",
                "\n",
                "Há duas formas de fazer isso :\n",
                "- na página inicial do VS Code chamada `bem-vindo` (`welcome`), vá em `Open Folder` (`Abrir Pasta`);\n",
                "- no menu superior, vá em `Files` (`Arquivos`) e depois em `Add Folder to Workspace` (`Adicionar Pasta à Área de Trabalho`);\n",
                "\n",
                "Para ambos os casos, selecione a pasta previamente criada."
            ]
        },
        {
            "attachments": {},
            "cell_type": "markdown",
            "metadata": {},
            "source": [
                "## Preparando o Local de Trabalho"
            ]
        },
        {
            "attachments": {},
            "cell_type": "markdown",
            "metadata": {},
            "source": [
                "Depois de abrir a pasta com o VS Code, abra o terminal integrado usando o atalho `Ctrl + '` ou indo em `View > Terminal`."
            ]
        },
        {
            "attachments": {},
            "cell_type": "markdown",
            "metadata": {},
            "source": [
                "Verifique se o Python foi corretamente carregado com `python --version` no terminal (caso tenha problemas, verifique a etapa anterior `Preparando os Programas`).\n",
                "\n",
                "Agora, vamos criar um ambiente virtual de trabalho.<br>\n",
                "Para maiores informações do porquê de usar um ambiente virtual, leia este artigo [Python Virtual Environments: A Primer](https://realpython.com/python-virtual-environments-a-primer/)."
            ]
        },
        {
            "attachments": {},
            "cell_type": "markdown",
            "metadata": {},
            "source": [
                "### Criando o Ambiente Virtual"
            ]
        },
        {
            "attachments": {},
            "cell_type": "markdown",
            "metadata": {},
            "source": [
                "Para criar um ambiente usamos o seguinte comando :"
            ]
        },
        {
            "cell_type": "code",
            "execution_count": null,
            "metadata": {
                "vscode": {
                    "languageId": "shellscript"
                }
            },
            "outputs": [],
            "source": [
                "# no terminal do VS Code\n",
                "C:\\Users\\<seu usuario>\\Desktop\\futebol>python -m venv .venv"
            ]
        },
        {
            "attachments": {},
            "cell_type": "markdown",
            "metadata": {},
            "source": [
                "O comando acima chama o Python com o argumento -m, o criador do ambiente virtual `venv` e o nome da pasta que queremos dar para ele.<br>\n",
                "Para maiores informações sobre os argumentos no Python pelo Prompt de Comando, leia este artigo [Python Command-Line Arguments](https://realpython.com/python-command-line-arguments/).\n",
                "\n",
                "Seguiremos a convenção dos ambientes virtuais do Python e criar ele com o nome de `.venv`."
            ]
        },
        {
            "attachments": {},
            "cell_type": "markdown",
            "metadata": {},
            "source": [
                "### Ativando o Ambiente Virtual"
            ]
        },
        {
            "attachments": {},
            "cell_type": "markdown",
            "metadata": {},
            "source": [
                "Depois de criado, temos que ativar ele.\n",
                "\n",
                "Há dois locais para realizar essa ativação.\n",
                "\n",
                "- no terminal : execute o comando abaixo para ativar o ambiente virtual;"
            ]
        },
        {
            "cell_type": "code",
            "execution_count": null,
            "metadata": {
                "vscode": {
                    "languageId": "shellscript"
                }
            },
            "outputs": [],
            "source": [
                "# no terminal do VS Code\n",
                "C:\\Users\\<seu usuario>\\Desktop\\futebol>.\\.venv\\Scripts\\activate"
            ]
        },
        {
            "attachments": {},
            "cell_type": "markdown",
            "metadata": {},
            "source": [
                "Depois de ativado, aparecerá no terminal o nome do ambiente ativado no começo da linha, conforme abaixo :"
            ]
        },
        {
            "cell_type": "code",
            "execution_count": null,
            "metadata": {
                "vscode": {
                    "languageId": "shellscript"
                }
            },
            "outputs": [],
            "source": [
                "# no terminal do VS Code\n",
                "(.venv) C:\\Users\\<seu usuario>\\Desktop\\futebol>_"
            ]
        },
        {
            "attachments": {},
            "cell_type": "markdown",
            "metadata": {},
            "source": [
                "Isso indica que ele foi ativado com sucesso."
            ]
        },
        {
            "attachments": {},
            "cell_type": "markdown",
            "metadata": {},
            "source": [
                "- no VS Code : no canto inferior direito, aparecerá a vesão do Python que está usando. Clicando ali, ele irá questionar qual interpretador Python você gostaria de usar, selecione aquele que tiver `.venv` ao lado. Esse é o interpretador que o VS Code utilizará para validar o código Python."
            ]
        },
        {
            "attachments": {},
            "cell_type": "markdown",
            "metadata": {},
            "source": [
                "### Instalando os Pacotes"
            ]
        },
        {
            "attachments": {},
            "cell_type": "markdown",
            "metadata": {},
            "source": [
                "Depois de ativado o ambiente virtual no terminal, instale os pacotes do Python que serão usados para nosso projeto.\n",
                "\n",
                "- pylint e autopep8 : serão usados para inspecionar o código e buscar erros;\n",
                "- django : é o framework que usaremos para criar nosso site;\n",
                "\n",
                "Podemos instalar com apenas uma linha comando, conforme abaixo :"
            ]
        },
        {
            "cell_type": "code",
            "execution_count": null,
            "metadata": {
                "vscode": {
                    "languageId": "shellscript"
                }
            },
            "outputs": [],
            "source": [
                "# no terminal do VS Code\n",
                "(.venv) C:\\Users\\<seu usuario>\\Desktop\\futebol>pip install pylint autopep8 django"
            ]
        },
        {
            "attachments": {},
            "cell_type": "markdown",
            "metadata": {},
            "source": [
                "Pode ser que você seja notificado para atualizar o pip.<br>\n",
                "Para isso, basta executar o comando abaixo para isso (que também será mostrado com o pedido) :"
            ]
        },
        {
            "cell_type": "code",
            "execution_count": null,
            "metadata": {
                "vscode": {
                    "languageId": "shellscript"
                }
            },
            "outputs": [],
            "source": [
                "# no terminal do VS Code\n",
                "(.venv) C:\\Users\\<seu usuario>\\Desktop\\futebol>python -m pip install --upgrade pip"
            ]
        },
        {
            "attachments": {},
            "cell_type": "markdown",
            "metadata": {},
            "source": [
                "Para verificar se o django foi corretamente instalado, execute o comando abaixo :"
            ]
        },
        {
            "cell_type": "code",
            "execution_count": null,
            "metadata": {
                "vscode": {
                    "languageId": "shellscript"
                }
            },
            "outputs": [],
            "source": [
                "# no terminal do VS Code\n",
                "(.venv) C:\\Users\\<seu usuario>\\Desktop\\futebol>django-admin version\n",
                "4.1.7"
            ]
        },
        {
            "attachments": {},
            "cell_type": "markdown",
            "metadata": {},
            "source": [
                "Se aparecer algum número, como o de cima, então temos o pacote instalado com sucesso e funcionando."
            ]
        },
        {
            "attachments": {},
            "cell_type": "markdown",
            "metadata": {},
            "source": [
                "## Iniciando o Projeto"
            ]
        },
        {
            "attachments": {},
            "cell_type": "markdown",
            "metadata": {},
            "source": [
                "Agora, finalmente, vamos criar o nosso projeto propriamente dito. Para isso, digitamos o comando abaixo :"
            ]
        },
        {
            "cell_type": "code",
            "execution_count": null,
            "metadata": {
                "vscode": {
                    "languageId": "shellscript"
                }
            },
            "outputs": [],
            "source": [
                "# no terminal do VS Code\n",
                "(.venv) C:\\Users\\<seu usuario>\\Desktop\\futebol>django-admin startproject futebol ."
            ]
        },
        {
            "attachments": {},
            "cell_type": "markdown",
            "metadata": {},
            "source": [
                "Depois de executado, uma pasta `futebol` será criada e o módulo `manage.py`.<br>\n",
                "Veja abaixo como ficou a organização das pastas :\n",
                "```\n",
                "futebol/\n",
                "    manage.py\n",
                "    futebol/\n",
                "        __init__.py\n",
                "        settings.py\n",
                "        urls.py\n",
                "        asgi.py\n",
                "        wsgi.py\n",
                "```\n",
                "\n",
                "- a pasta externa `futebol/` : é a pasta raiz e container do nosso projeto. O nome não é realmente importante para o django, podemos alterar para o que quisermos;\n",
                "- `manage.py` : é um utilitário para a linha de comando que nos permite interagir com o projeto Django de várias formas. Mais detalhes sobre `manage.py` podem ser lidos em [django-admin e manage.py](https://docs.djangoproject.com/en/4.1/ref/django-admin/);\n",
                "- a pasta interna `futebol/` : é o real pacote Python para nosso projeto. Vai ser o centro administrativo e de controle do nosso projeto. Seu nome é o pacote Python que será necessário para importar qualquer coisa dentro dele (exemplo : `futebol.urls`);\n",
                "- `futebol/__init__.py` : é um módulo vazio que diz ao Python que esta pasta deve ser considerada um pacote Python. Mais pode ser lido na [documentação](https://docs.python.org/3/tutorial/modules.html#tut-packages);\n",
                "- `futebol/settings.py` : é o módulo de ajustes / configuração para o projeto Django. Mais pode ser lido [aqui](https://docs.djangoproject.com/en/4.1/topics/settings/);\n",
                "- `futebol/urls.py` : é o módulo responsável pelas declarações das URLs para o projeto Django. Mais pode ser lido em [URL dispacher](https://docs.djangoproject.com/en/4.1/topics/http/urls/);\n",
                "- `futebol/asgi.py` e `futebol/wsgi.py` : são arquivos de configuração usados quando o site for publicado;"
            ]
        },
        {
            "attachments": {},
            "cell_type": "markdown",
            "metadata": {},
            "source": [
                "Para executar o servidor, executamos o camando abaixo :"
            ]
        },
        {
            "cell_type": "code",
            "execution_count": null,
            "metadata": {
                "vscode": {
                    "languageId": "shellscript"
                }
            },
            "outputs": [],
            "source": [
                "# no terminal do VS Code\n",
                "(.venv) C:\\Users\\<seu usuario>\\Desktop\\futebol>django-admin runserver"
            ]
        },
        {
            "attachments": {},
            "cell_type": "markdown",
            "metadata": {},
            "source": [
                "## Criando um Debugger"
            ]
        },
        {
            "cell_type": "markdown",
            "metadata": {},
            "source": [
                "Para facilitar nosso trabalho com o django, vamos criar um debugger com o json abaixo. Dessa forma, não será preciso reiniciar e interromper o servidor sempre que realizarmos qualquer alteração."
            ]
        },
        {
            "cell_type": "code",
            "execution_count": null,
            "metadata": {},
            "outputs": [],
            "source": [
                "# /.vscode/launch.json\n",
                "{\n",
                "    \"version\": \"0.2.0\",\n",
                "    \"configurations\": [\n",
                "        {\n",
                "            \"name\": \"Python Django\",\n",
                "            \"type\": \"python\",\n",
                "            \"request\": \"launch\",\n",
                "            \"program\": \"${workspaceFolder}/manage.py\",\n",
                "            \"args\": [\n",
                "                \"runserver\"\n",
                "            ],\n",
                "            \"django\": true,\n",
                "        }\n",
                "    ]\n",
                "}"
            ]
        },
        {
            "attachments": {},
            "cell_type": "markdown",
            "metadata": {},
            "source": [
                "## Criando o Primeiro Aplicativo"
            ]
        },
        {
            "attachments": {},
            "cell_type": "markdown",
            "metadata": {},
            "source": [
                "Nosso site terá vários aplicativos, que usaremos para configurar os subdomínios do nosso projeto.<br>\n",
                "Para criar os dois primeiros, executamos o camando abaixo :"
            ]
        },
        {
            "cell_type": "code",
            "execution_count": null,
            "metadata": {
                "vscode": {
                    "languageId": "shellscript"
                }
            },
            "outputs": [],
            "source": [
                "# no terminal do VS Code\n",
                "(.venv) C:\\Users\\<seu usuario>\\Desktop\\futebol>python manage.py startapp gremio\n",
                "(.venv) C:\\Users\\<seu usuario>\\Desktop\\futebol>python manage.py startapp inter"
            ]
        },
        {
            "attachments": {},
            "cell_type": "markdown",
            "metadata": {},
            "source": [
                "Isso irá criar mais duas pastas na raiz do nosso projeto.\n",
                "```\n",
                "futebol/\n",
                "    manage.py\n",
                "    futebol/\n",
                "        __init__.py\n",
                "        settings.py\n",
                "        urls.py\n",
                "        asgi.py\n",
                "        wsgi.py\n",
                "    gremio/     <-- pasta criada\n",
                "        migrations/\n",
                "            __init__.py\n",
                "        __init__.py\n",
                "        admin.py\n",
                "        apps.py\n",
                "        models.py\n",
                "        tests.py\n",
                "        views.py\n",
                "    inter/      <-- pasta criada\n",
                "        migrations/\n",
                "            __init__.py\n",
                "        __init__.py\n",
                "        admin.py\n",
                "        apps.py\n",
                "        models.py\n",
                "        tests.py\n",
                "        views.py\n",
                "```"
            ]
        },
        {
            "attachments": {},
            "cell_type": "markdown",
            "metadata": {},
            "source": [
                "## Criando as Páginas HTML"
            ]
        },
        {
            "attachments": {},
            "cell_type": "markdown",
            "metadata": {},
            "source": [
                "Antes de continuarmos, temos que criar um modelo para nossas páginas HTML. Para isso, dentro de cada aplicativo, temos que criar uma pasta chamada `templates`, dentro dela criar uma nova pasta com o nome do aplicativo e por último, criamos mais duas pastas chamadas `parciais` e `paginas`; Dentro da pasta `paginas`, criaremos nosso arquivo HTML básico;<br>\n",
                "Veja abaixo como fica a organização de pastas do aplicativo `gremio` :\n",
                "```\n",
                "gremio/\n",
                "    migrations/\n",
                "        __init__.py\n",
                "    templates/      <-- pasta criada\n",
                "        gremio/\n",
                "            paginas/\n",
                "                home.html\n",
                "            parciais/\n",
                "    __init__.py\n",
                "    admin.py\n",
                "    apps.py\n",
                "    models.py\n",
                "    tests.py\n",
                "    views.py\n",
                "```\n",
                "O mesmo será feito para o aplicativo `inter`, só alterando os nomes;"
            ]
        },
        {
            "attachments": {},
            "cell_type": "markdown",
            "metadata": {},
            "source": [
                "Quanto ao arquivo HTML dos dois aplicativos, basta criar o mais básico possível, como o modelo abaixo (alterando os nomes) :"
            ]
        },
        {
            "cell_type": "code",
            "execution_count": null,
            "metadata": {
                "vscode": {
                    "languageId": "html"
                }
            },
            "outputs": [],
            "source": [
                "<!-- /futebol/gremio/templates/gremio/paginas/home.html -->\n",
                "<!DOCTYPE html>\n",
                "<html lang=\"en\">\n",
                "<head>\n",
                "    <title>Grêmio</title>\n",
                "</head>\n",
                "<body>\n",
                "    <h1>Sou a home do GRÊMIO!</h1>\n",
                "</body>\n",
                "</html>"
            ]
        },
        {
            "attachments": {},
            "cell_type": "markdown",
            "metadata": {},
            "source": [
                "Esse é o HTML que carregaremos para nossas páginas web;"
            ]
        },
        {
            "attachments": {},
            "cell_type": "markdown",
            "metadata": {},
            "source": [
                "## Registrando as Páginas"
            ]
        },
        {
            "attachments": {},
            "cell_type": "markdown",
            "metadata": {},
            "source": [
                "Depois de criar as pastas e o HTML, temos alguns passos a seguir para carregar elas :\n",
                "- registrar no `settings.py` : vamos no arquivo `/futebol/futebol/settings.py` para adicionar nosso aplicativos na lista, conforme abaixo :"
            ]
        },
        {
            "cell_type": "code",
            "execution_count": null,
            "metadata": {},
            "outputs": [],
            "source": [
                "# /futebol/futebol/settings.py\n",
                "INSTALLED_APPS = [\n",
                "    'django.contrib.admin',\n",
                "    'django.contrib.auth',\n",
                "    'django.contrib.contenttypes',\n",
                "    'django.contrib.sessions',\n",
                "    'django.contrib.messages',\n",
                "    'django.contrib.staticfiles',\n",
                "    # meus aplicativos criados\n",
                "    'gremio',\n",
                "    'inter',\n",
                "]"
            ]
        },
        {
            "attachments": {},
            "cell_type": "markdown",
            "metadata": {},
            "source": [
                "- criar funções nas `views.py` : em cada uma das views dos aplicativos criados (`gremio` e `inter`), adicionaremos o seguinte código :"
            ]
        },
        {
            "cell_type": "code",
            "execution_count": null,
            "metadata": {},
            "outputs": [],
            "source": [
                "# /futebol/gremio/views.py\n",
                "from django.shortcuts import render\n",
                "\n",
                "def home(request):\n",
                "    return render(request, 'gremio/paginas/home.html')"
            ]
        },
        {
            "cell_type": "code",
            "execution_count": null,
            "metadata": {},
            "outputs": [],
            "source": [
                "# /futebol/inter/views.py\n",
                "from django.shortcuts import render\n",
                "\n",
                "def home(request):\n",
                "    return render(request, 'inter/paginas/home.html')"
            ]
        },
        {
            "attachments": {},
            "cell_type": "markdown",
            "metadata": {},
            "source": [
                "Repare que as pastas referenciadas logo após o `request` é referente à pasta **dentro** da `templates`, e não a página do aplicativo;\n",
                "\n",
                "Essas funções serão usadas para importar nos módulos `urls.py` que serão criados a seguir;"
            ]
        },
        {
            "attachments": {},
            "cell_type": "markdown",
            "metadata": {},
            "source": [
                "- criar os módulos `urls.py` : em cada um dos aplicativos criados (`gremio` e `inter`), criaremos um módulo `urls.py`;\n",
                "```\n",
                "futebol/\n",
                "    gremio/\n",
                "        migrations/\n",
                "            __init__.py\n",
                "        templates/\n",
                "            gremio/\n",
                "                paginas/\n",
                "                    home.html\n",
                "                parciais/\n",
                "        __init__.py\n",
                "        admin.py\n",
                "        apps.py\n",
                "        models.py\n",
                "        tests.py\n",
                "        urls.py     <-- módulo criado\n",
                "        views.py\n",
                "    inter/\n",
                "        migrations/\n",
                "            __init__.py\n",
                "        templates/\n",
                "            inter/\n",
                "                paginas/\n",
                "                    home.html\n",
                "                parciais/\n",
                "        __init__.py\n",
                "        admin.py\n",
                "        apps.py\n",
                "        models.py\n",
                "        tests.py\n",
                "        urls.py     <-- módulo criado\n",
                "        views.py\n",
                "```\n",
                "Depois de criado, adicionamos o seguinte código em cada módulo `urls.py`:"
            ]
        },
        {
            "cell_type": "code",
            "execution_count": null,
            "metadata": {},
            "outputs": [],
            "source": [
                "# /futebol/gremio/urls.py\n",
                "from django.urls import path\n",
                "from . import views\n",
                "\n",
                "urlpatterns = [\n",
                "    path('', views.home),  # home\n",
                "]"
            ]
        },
        {
            "cell_type": "code",
            "execution_count": null,
            "metadata": {},
            "outputs": [],
            "source": [
                "# /futebol/inter/urls.py\n",
                "from django.urls import path\n",
                "from . import views\n",
                "\n",
                "urlpatterns = [\n",
                "    path('', views.home),  # home\n",
                "]"
            ]
        },
        {
            "attachments": {},
            "cell_type": "markdown",
            "metadata": {},
            "source": [
                "- registrar no `urls.py` : vamos no arquivo `/futebol/futebol/urls.py` e adicionamos os subdomínios que acabamos de criar, conforme abaixo :"
            ]
        },
        {
            "cell_type": "code",
            "execution_count": null,
            "metadata": {},
            "outputs": [],
            "source": [
                "# /futebol/futebol/urls.py ANTES\n",
                "from django.contrib import admin\n",
                "from django.urls import path\n",
                "\n",
                "urlpatterns = [\n",
                "    path('admin/', admin.site.urls),\n",
                "]"
            ]
        },
        {
            "cell_type": "code",
            "execution_count": null,
            "metadata": {},
            "outputs": [],
            "source": [
                "# /futebol/futebol/urls.py DEPOIS\n",
                "from django.contrib import admin\n",
                "from django.urls import path, include\n",
                "\n",
                "urlpatterns = [\n",
                "    path('admin/', admin.site.urls),\n",
                "    path('gremio/', include('gremio.urls')),\n",
                "    path('inter/', include('inter.urls')),\n",
                "]"
            ]
        },
        {
            "attachments": {},
            "cell_type": "markdown",
            "metadata": {},
            "source": [
                "Agora, podemos acessar as nossas páginas usando os links `http://127.0.0.1:8000/gremio/` e `http://127.0.0.1:8000/inter/`;"
            ]
        },
        {
            "attachments": {},
            "cell_type": "markdown",
            "metadata": {},
            "source": [
                "## Dividindo o HTML"
            ]
        },
        {
            "attachments": {},
            "cell_type": "markdown",
            "metadata": {},
            "source": [
                "Um dos motivos de criarmos as pastas `paginas` e `parciais` é para que fosse possível dividir nosso código em mais de um arquivo e reaproveitar ele.\n",
                "\n",
                "Por exemplo : todas as páginas do `gremio` terão o mesmo cabeçalho (o conteúdo dentro da tag `head`);\n",
                "\n",
                "Para isso, vamos criar mais duas páginas, mas realizando todas as importações da tag head em cada uma delas, incluíndo a página home.html;"
            ]
        },
        {
            "cell_type": "code",
            "execution_count": null,
            "metadata": {
                "vscode": {
                    "languageId": "html"
                }
            },
            "outputs": [],
            "source": [
                "<!-- /futebol/gremio/templates/gremio/parciais/head.html -->\n",
                "<!DOCTYPE html>\n",
                "<html lang=\"en\">\n",
                "<head>\n",
                "    <title>Grêmio</title>\n",
                "</head>"
            ]
        },
        {
            "cell_type": "code",
            "execution_count": null,
            "metadata": {
                "vscode": {
                    "languageId": "html"
                }
            },
            "outputs": [],
            "source": [
                "<!-- /futebol/gremio/templates/gremio/paginas/home.html -->\n",
                "{% include 'gremio/parciais/head.html' %}\n",
                "<body>\n",
                "    <h1>Sou a home do GRÊMIO!</h1>\n",
                "</body>\n",
                "</html>"
            ]
        },
        {
            "attachments": {},
            "cell_type": "markdown",
            "metadata": {},
            "source": [
                "A agora as duas páginas criadas :"
            ]
        },
        {
            "cell_type": "code",
            "execution_count": null,
            "metadata": {
                "vscode": {
                    "languageId": "html"
                }
            },
            "outputs": [],
            "source": [
                "<!-- /futebol/gremio/templates/gremio/paginas/sobre.html -->\n",
                "{% include 'gremio/parciais/head.html' %}\n",
                "<body>\n",
                "    <h1>Sou a <b>sobre</b> do GRÊMIO!</h1>\n",
                "</body>\n",
                "</html>"
            ]
        },
        {
            "cell_type": "code",
            "execution_count": null,
            "metadata": {
                "vscode": {
                    "languageId": "html"
                }
            },
            "outputs": [],
            "source": [
                "<!-- /futebol/gremio/templates/gremio/paginas/contato.html -->\n",
                "{% include 'gremio/parciais/head.html' %}\n",
                "<body>\n",
                "    <h1>Sou a <b>contato</b> do GRÊMIO!</h1>\n",
                "</body>\n",
                "</html>"
            ]
        },
        {
            "attachments": {},
            "cell_type": "markdown",
            "metadata": {},
            "source": [
                "O trecho de código `{% include 'gremio/parciais/head.html' %}` vai incluir o arquivo `head.html` naquele ponto nos arquivos `home.html`, `sobre.html` e `contato.html`;"
            ]
        },
        {
            "attachments": {},
            "cell_type": "markdown",
            "metadata": {},
            "source": [
                "Assim como a `home`, temos que criar as funções nas respectivas `views.py` para poder chamá-las no arquivo `urls.py`;\n",
                "\n",
                "O exemplo a seguir é para incluir as funções no aplicativo `gremio`, mas o mesmo se aplica ao aplicativo `inter`;"
            ]
        },
        {
            "cell_type": "code",
            "execution_count": null,
            "metadata": {},
            "outputs": [],
            "source": [
                "# /futebol/gremio/views.py\n",
                "from django.shortcuts import render\n",
                "\n",
                "\n",
                "def home(request):\n",
                "    return render(request, 'gremio/paginas/home.html')\n",
                "\n",
                "# novas funções adicionadas abaixo\n",
                "def sobre(request):\n",
                "    return render(request, 'gremio/paginas/sobre.html')\n",
                "\n",
                "\n",
                "def contato(request):\n",
                "    return render(request, 'gremio/paginas/contato.html')\n"
            ]
        },
        {
            "cell_type": "code",
            "execution_count": null,
            "metadata": {},
            "outputs": [],
            "source": [
                "# /futebol/gremio/urls.py\n",
                "from django.urls import path\n",
                "from . import views\n",
                "\n",
                "urlpatterns = [\n",
                "    path('', views.home),  # home\n",
                "    path('sobre', views.sobre),  # sobre\n",
                "    path('contato', views.contato),  # contato\n",
                "]\n"
            ]
        },
        {
            "attachments": {},
            "cell_type": "markdown",
            "metadata": {},
            "source": [
                "Agora, nossas páginas estão sendo carregadas corretamente. Os documentos HTML estão sendo montados pelo Django e enviados para o browser como uma página completa. Isso ajuda na reusabilidade de código e, se precisarmos alterar alguma coisa, alteramos apenas no arquivo `head.html`, em vez de outros 3 arquivos (`home.html`, `sobre.html` e `contato.html`);\n",
                "\n",
                "Um exemplo, é o carregamento de arquivos estáticos;"
            ]
        },
        {
            "attachments": {},
            "cell_type": "markdown",
            "metadata": {},
            "source": [
                "## Carregando os Arquivos Estáticos"
            ]
        },
        {
            "attachments": {},
            "cell_type": "markdown",
            "metadata": {},
            "source": [
                "Arquivos estáticos são arquivos de estilos (CSS), de scripts (JavaScript) e imagens (jpg, png).\n",
                "\n",
                "Para carregarmos esses arquivos no Django, temos que criar uma pasta chamda `static` dentro de cada aplicativo, dentro dela criar uma outra pasta com o mesmo nome do aplicativo (como fizemos com a pasta `templates`) e depois a pasta para o arquivo específico.\n",
                "\n",
                "Veja abaixo como vai ficar nossa estrutura de arquivos do aplicativo `gremio`, já criando o arquivo de estilo.css e a imagem (o mesmo vale para o aplicativo `inter`) :\n",
                "```\n",
                "futebol/\n",
                "    gremio/\n",
                "        migrations/\n",
                "            __init__.py\n",
                "        static/     <-- pasta criada\n",
                "            gremio/\n",
                "                css/\n",
                "                    estilo.css\n",
                "                imgs/\n",
                "                    escudo.jpg\n",
                "        templates/\n",
                "            gremio/\n",
                "                paginas/\n",
                "                    home.html\n",
                "                parciais/\n",
                "        __init__.py\n",
                "        admin.py\n",
                "        apps.py\n",
                "        models.py\n",
                "        tests.py\n",
                "        urls.py\n",
                "        views.py\n",
                "```"
            ]
        },
        {
            "attachments": {},
            "cell_type": "markdown",
            "metadata": {},
            "source": [
                "Uma vez criada as pastas, temos que importá-las nas nossas páginas.\n",
                "\n",
                "Como a importação do CSS se dá dentro da tag head, temos que alterar apenas o arquivo `head.html`. Para isso, inicializamos o static carregando ele no topo do arquivo html e depois chamamos o arquivo CSS conforme o código abaixo :"
            ]
        },
        {
            "cell_type": "code",
            "execution_count": null,
            "metadata": {
                "vscode": {
                    "languageId": "html"
                }
            },
            "outputs": [],
            "source": [
                "<!-- /futebol/gremio/templates/gremio/parciais/head.html -->\n",
                "{% load static %}\n",
                "<!DOCTYPE html>\n",
                "<html lang=\"en\">\n",
                "<head>\n",
                "    <link rel=\"stylesheet\" href=\"{% static 'gremio/css/estilo.css' %}\">\n",
                "    <title>GRÊMIO</title>\n",
                "</head>"
            ]
        },
        {
            "attachments": {},
            "cell_type": "markdown",
            "metadata": {},
            "source": [
                "O mesmo se aplica para o aplciativo do `inter`, apenas atualizando os nomes das pastas."
            ]
        },
        {
            "attachments": {},
            "cell_type": "markdown",
            "metadata": {},
            "source": [
                "Já a imagem `escudo.jpg` vamos chamar apenas na página `home.html` de cada aplicativo; Basta usarmos a mesma importação do `load` e do arquivo, conforme no html abaixo :"
            ]
        },
        {
            "cell_type": "code",
            "execution_count": null,
            "metadata": {
                "vscode": {
                    "languageId": "html"
                }
            },
            "outputs": [],
            "source": [
                "<!-- /futebol/gremio/templates/gremio/paginas/home.html -->\n",
                "{% load static %}\n",
                "{% include 'gremio/parciais/head.html' %}\n",
                "<body>\n",
                "    <h1>Sou a home do GRÊMIO!</h1>\n",
                "    <img src=\"{% static 'gremio/imgs/escudo.jpg' %}\">\n",
                "</body>\n",
                "</html>"
            ]
        },
        {
            "attachments": {},
            "cell_type": "markdown",
            "metadata": {},
            "source": [
                "**`PS`** : caso as imagens não estejam sendo carregadas ou o CSS, salve um arquivo Python do projeto para que o servidor seja reiniciado;"
            ]
        },
        {
            "attachments": {},
            "cell_type": "markdown",
            "metadata": {},
            "source": [
                "## Criando um Menu"
            ]
        },
        {
            "attachments": {},
            "cell_type": "markdown",
            "metadata": {},
            "source": [
                "Para criarmos um menu navegável pelo nosso aplicativo, temos que usar a `tag url` do Django, mas para funcionar corretamente, temos que dar um nome para nossas páginas no arquivo de `urls.py` do aplicativo. Também temos que criar uma variável chamada `app_name`, que servirá para distinguir as páginas de cada aplicativo.\n",
                "\n",
                "Veja como fica o módulo `urls.py` :"
            ]
        },
        {
            "cell_type": "code",
            "execution_count": null,
            "metadata": {},
            "outputs": [],
            "source": [
                "# /futebol/gremio/urls.py\n",
                "from django.urls import path\n",
                "from . import views\n",
                "\n",
                "app_name = 'gremio'\n",
                "urlpatterns = [\n",
                "    path('', views.home, name='home'),  # home\n",
                "    path('sobre', views.sobre, name='sobre'),  # sobre\n",
                "    path('contato', views.contato, name='contato'),  # contato\n",
                "]"
            ]
        },
        {
            "attachments": {},
            "cell_type": "markdown",
            "metadata": {},
            "source": [
                "Repare que agora passamos um argumento nomeado para a função `path`. Usaremos esse valor para referenciar cada página especificada na views.\n",
                "\n",
                "Para usarmos no HTML, temos que usar a tag `{% url 'app_name:name' %}` nos links, substituindo o `name` pelo exato valor que passamos na função `path` logo acima, sendo cada um a referência para a respectiva página, e o `app_name` será o valor de definimos no `urls.py`.\n",
                "\n",
                "Veja o exemplo abaixo :"
            ]
        },
        {
            "cell_type": "code",
            "execution_count": null,
            "metadata": {
                "vscode": {
                    "languageId": "html"
                }
            },
            "outputs": [],
            "source": [
                "<!-- /futebol/gremio/templates/gremio/parciais/menu.html -->\n",
                "<div id=\"menu-gremio\">\n",
                "    <ul>\n",
                "        <li><a href=\"{% url 'gremio:home' %}\">HOME</a></li>\n",
                "        <li><a href=\"{% url 'gremio:sobre' %}\">SOBRE</a></li>\n",
                "        <li><a href=\"{% url 'gremio:contato' %}\">CONTATO</a></li>\n",
                "    </ul>\n",
                "</div>"
            ]
        },
        {
            "attachments": {},
            "cell_type": "markdown",
            "metadata": {},
            "source": [
                "Uma vez que o `menu.html` foi criado, basta chamarmos ele (assim como fizemos com o `head.html`) nas nossas páginas `home.html`, `sobre.html` e `contato.html`."
            ]
        },
        {
            "attachments": {},
            "cell_type": "markdown",
            "metadata": {},
            "source": [
                "Abaixo temos o exemplo do menu sendo importado no arquivo `home.html` do aplicativo `gremio`. Depois, basta repetirmos o processo para as outras páginas `sobre.html` e `contato.html`."
            ]
        },
        {
            "cell_type": "code",
            "execution_count": null,
            "metadata": {
                "vscode": {
                    "languageId": "html"
                }
            },
            "outputs": [],
            "source": [
                "<!-- /futebol/gremio/templates/gremio/paginas/home.html -->\n",
                "{% load static %}\n",
                "{% include 'gremio/parciais/head.html' %}\n",
                "<body>\n",
                "    <h1>Sou a home do GRÊMIO!</h1>\n",
                "    {% include 'gremio/parciais/menu.html' %}\n",
                "    <img src=\"{% static 'gremio/imgs/escudo.jpg' %}\">\n",
                "</body>\n",
                "</html>"
            ]
        },
        {
            "attachments": {},
            "cell_type": "markdown",
            "metadata": {},
            "source": [
                "Depois é só repetir o mesmo processo acima para o aplicativo do `inter`."
            ]
        },
        {
            "attachments": {},
            "cell_type": "markdown",
            "metadata": {},
            "source": [
                "## Criando Pastas Globais"
            ]
        },
        {
            "attachments": {},
            "cell_type": "markdown",
            "metadata": {},
            "source": [
                "Eventualmente, nosso código irá ter vários arquivos em comuns, como um cabeçalho padrão para todas as páginas, uma imagem, um estilo, etc. Para isso, o django nos permite criar `templates` e `statics` globais. Para isso funcionar, essas pastas ficarão localizadas na raiz do nosso projeto (podemos colocar em qualquer lugar do nosso projeto, mas faz mais sentido - já que serão globais - deixá-las na raiz do projeto).\n",
                "\n",
                "As pastas `futebol`, `gremio` e `inter` ficaram como irmãs das novas pastas.\n",
                "```\n",
                "futebol/\n",
                "    futebol/  <--|\n",
                "    gremio/   <--|-- pastas 'fechadas' com o conteúdo criado anteriormente\n",
                "    inter/    <--|\n",
                "    meus_statics/ <-- nova pasta vazia\n",
                "    meus_templates/ <-- nova pasta vazia\n",
                "    manage.py\n",
                "    db.sqlite3\n",
                "```"
            ]
        },
        {
            "attachments": {},
            "cell_type": "markdown",
            "metadata": {},
            "source": [
                "Assim como nas pastas dos `templates` e `static` dos aplicativos `gremio` e `inter`, essas pastas `meus_*` também terão que ter uma subpasta, que servirá de namespacec só para elas. Também já criaremos as demais pastas dentro delas. Repare que, como a função delas é servir de 'suporte' para os aplicativos, não é necessário criar uma pasta `paginas` dentro dela, logo mais criaremos um aplicativo que servirá de ponte entre todos os demais.\n",
                "```\n",
                "futebol/\n",
                "    futebol/  <--|\n",
                "    gremio/   <--|-- pastas 'fechadas' com o conteúdo criado anteriormente\n",
                "    inter/    <--|\n",
                "    meus_statics/\n",
                "        global/\n",
                "            css/\n",
                "                estilo.css\n",
                "            imgs/\n",
                "                brasao.jpg\n",
                "    meus_templates/\n",
                "        global/\n",
                "            cabecalho.html\n",
                "            rodape.html\n",
                "    manage.py\n",
                "    db.sqlite3\n",
                "```"
            ]
        },
        {
            "attachments": {},
            "cell_type": "markdown",
            "metadata": {},
            "source": [
                "O Django consegue reconhecer pastas e arquivos através de nomes predeterminados, mas esse tipo de pasta e arquivo que criamos como globais tem que ser explicitamente dito para ele. Essa configuração nós realizamos no arquivo `/futebol/settings.py`. Há dois pontos que temos que alterar :\n",
                "\n",
                "- `TEMPLATES` : a constante `TEMPLATES` é onde iremos especificar para o Django onde estará a nossa pasta global de templates. Para isso, alteramos a chave `DIRS` com a variável da pasta raiz e o nome da pasta que criamos :"
            ]
        },
        {
            "cell_type": "code",
            "execution_count": null,
            "metadata": {},
            "outputs": [],
            "source": [
                "# /futebol/settintgs.py ANTES\n",
                "TEMPLATES = [\n",
                "    {\n",
                "        'BACKEND': 'django.template.backends.django.DjangoTemplates',\n",
                "        'DIRS': [],\n",
                "        'APP_DIRS': True,\n",
                "        'OPTIONS': {\n",
                "            'context_processors': [\n",
                "                'django.template.context_processors.debug',\n",
                "                'django.template.context_processors.request',\n",
                "                'django.contrib.auth.context_processors.auth',\n",
                "                'django.contrib.messages.context_processors.messages',\n",
                "            ],\n",
                "        },\n",
                "    },\n",
                "]"
            ]
        },
        {
            "cell_type": "code",
            "execution_count": null,
            "metadata": {},
            "outputs": [],
            "source": [
                "# /futebol/settintgs.py DEPOIS\n",
                "TEMPLATES = [\n",
                "    {\n",
                "        'BACKEND': 'django.template.backends.django.DjangoTemplates',\n",
                "        'DIRS': [\n",
                "            BASE_DIR / 'meus_templates', # local onde alteramos\n",
                "        ],\n",
                "        'APP_DIRS': True,\n",
                "        'OPTIONS': {\n",
                "            'context_processors': [\n",
                "                'django.template.context_processors.debug',\n",
                "                'django.template.context_processors.request',\n",
                "                'django.contrib.auth.context_processors.auth',\n",
                "                'django.contrib.messages.context_processors.messages',\n",
                "            ],\n",
                "        },\n",
                "    },\n",
                "]"
            ]
        },
        {
            "attachments": {},
            "cell_type": "markdown",
            "metadata": {},
            "source": [
                "- `STATIC` : para a pasta estática, tmeos que criar uma cosntante usando um nome predeterminado, que será `STATICFILES_DIRS`; pertencendo ao grupo de conteúdo estático, faz sentido colocarmos junto da constante `STATIC_URL` :\n"
            ]
        },
        {
            "cell_type": "code",
            "execution_count": null,
            "metadata": {},
            "outputs": [],
            "source": [
                "# /futebol/settintgs.py ANTES\n",
                "STATIC_URL = 'static/'"
            ]
        },
        {
            "cell_type": "code",
            "execution_count": null,
            "metadata": {},
            "outputs": [],
            "source": [
                "# /futebol/settintgs.py DEPOIS\n",
                "STATIC_URL = 'static/'\n",
                "STATICFILES_DIRS = [\n",
                "    BASE_DIR / 'meus_statics',\n",
                "]"
            ]
        },
        {
            "attachments": {},
            "cell_type": "markdown",
            "metadata": {},
            "source": [
                "Agora, já podemos usar ambas as pastas no nosso projeto.\n",
                "\n",
                "Para isso, é só chamar elas pelo caminho tradicional, só que em vez de usar o nome do aplicativo, usaremos a pasta global. Veja abaixo como ficará na nossa `home` :"
            ]
        },
        {
            "cell_type": "code",
            "execution_count": null,
            "metadata": {
                "vscode": {
                    "languageId": "html"
                }
            },
            "outputs": [],
            "source": [
                "<!-- /futebol/gremio/templates/gremio/paginas/home.html -->\n",
                "{% load static %}\n",
                "{% include 'gremio/parciais/head.html' %}\n",
                "<body>\n",
                "    {% include 'global/cabecalho.html' %}\n",
                "    <h1>Sou a home do GRÊMIO!</h1>\n",
                "    {% include 'gremio/parciais/menu.html' %}\n",
                "    <img src=\"{% static 'gremio/imgs/escudo.jpg' %}\">\n",
                "</body>\n",
                "</html>"
            ]
        },
        {
            "attachments": {},
            "cell_type": "markdown",
            "metadata": {},
            "source": [
                "Essa importação pode ser aplicada às páginas dos aplicativos."
            ]
        },
        {
            "attachments": {},
            "cell_type": "markdown",
            "metadata": {},
            "source": [
                "## Criando Urls Dinâmicas"
            ]
        },
        {
            "attachments": {},
            "cell_type": "markdown",
            "metadata": {},
            "source": [
                "Para criar um link dinâmico, nós adicionamos um `< identificador >` na string do path que estamos criando com a página.\n",
                "\n",
                "Para essa tarefa, vamos criar outras duas páginas, uma para listar todos os troféus da equipe (o aplicativo) e outra para mostrar apenas o troféu específico.\n",
                "\n",
                "Agora, vamos criar as páginas HTMLs necessárias :"
            ]
        },
        {
            "cell_type": "code",
            "execution_count": null,
            "metadata": {
                "vscode": {
                    "languageId": "html"
                }
            },
            "outputs": [],
            "source": [
                "<!-- /futebol/gremio/templates/gremio/paginas/trofeus.html -->\n",
                "{% load static %}\n",
                "{% include 'gremio/parciais/head.html' %}\n",
                "<body>\n",
                "    {% include 'global/cabecalho.html' %}\n",
                "    <h1>Sou a página de TROFÉUS do GRÊMIO!</h1>\n",
                "    {% include 'gremio/parciais/menu.html' %}\n",
                "    <h2>Lista de troféus</h2>\n",
                "    <ul>\n",
                "        <li><a href=\"#\">Campeonato de 1356 </a></li>\n",
                "        <li><a href=\"#\">Campeonato de 1412 </a></li>\n",
                "        <li><a href=\"#\">Campeonato de 1442 </a></li>\n",
                "        <li><a href=\"#\">Campeonato de 1489 </a></li>\n",
                "    </ul>\n",
                "</body>\n",
                "</html>"
            ]
        },
        {
            "cell_type": "code",
            "execution_count": null,
            "metadata": {
                "vscode": {
                    "languageId": "html"
                }
            },
            "outputs": [],
            "source": [
                "<!-- /futebol/gremio/templates/gremio/paginas/trofeu.html -->\n",
                "{% include 'gremio/parciais/head.html' %}\n",
                "<body>\n",
                "    sou a página do troféu\n",
                "</body>\n",
                "</html>"
            ]
        },
        {
            "attachments": {},
            "cell_type": "markdown",
            "metadata": {},
            "source": [
                "Assim como as outras páginas, temos que adicionar essa a `views.py` e `urls.py`. E também atualizar o menu que criamos para esse aplicativo com a nova página."
            ]
        },
        {
            "cell_type": "code",
            "execution_count": null,
            "metadata": {
                "vscode": {
                    "languageId": "html"
                }
            },
            "outputs": [],
            "source": [
                "<!-- /futebol/gremio/templates/gremio/parciais/menu.html -->\n",
                "<div id=\"menu-gremio\">\n",
                "    <ul>\n",
                "        <li><a href=\"{% url 'gremio:home' %}\">HOME</a></li>\n",
                "        <li><a href=\"{% url 'gremio:sobre' %}\">SOBRE</a></li>\n",
                "        <li><a href=\"{% url 'gremio:contato' %}\">CONTATO</a></li>\n",
                "        <li><a href=\"{% url 'gremio:trofeus' %}\">TROFÉUS</a></li> <!-- NOVO LINK -->\n",
                "    </ul>\n",
                "</div>"
            ]
        },
        {
            "attachments": {},
            "cell_type": "markdown",
            "metadata": {},
            "source": [
                "Como a página de `troféu` será um subdomínio da `troféus`, não vamos incluir no nosso menu por hora;"
            ]
        },
        {
            "cell_type": "code",
            "execution_count": null,
            "metadata": {},
            "outputs": [],
            "source": [
                "# /futebol/gremio/views.py\n",
                "# novas funções adicionadas\n",
                "def trofeus(request):\n",
                "    return render(request, 'gremio/paginas/trofeus.html')\n",
                "def trofeu(request, id):\n",
                "    return render(request, 'gremio/paginas/trofeu.html')"
            ]
        },
        {
            "cell_type": "code",
            "execution_count": null,
            "metadata": {},
            "outputs": [],
            "source": [
                "# /futebol/gremio/urls.py\n",
                "# mostrando apenas onde foi alterado\n",
                "urlpatterns = [\n",
                "    path('', views.home, name='home'),  # home\n",
                "    path('sobre/', views.sobre, name='sobre'),  # sobre\n",
                "    path('contato/', views.contato, name='contato'),  # contato\n",
                "    # novos paths\n",
                "    path('trofeus/', views.trofeus, name='trofeus'),  # troféus\n",
                "    path('trofeus/trofeu/<int:id>/', views.trofeu, name='trofeu'),  # trofeu\n",
                "]"
            ]
        },
        {
            "attachments": {},
            "cell_type": "markdown",
            "metadata": {},
            "source": [
                "Depois de criada, nossas páginas devem estar sendo corretamente carregadas agora (lembre de adicionar um número junto da url `trofeu`, exemplo `http://127.0.0.1:8000/gremio/trofeus/trofeu/42`).\n",
                "\n",
                "Se reparar, o path do `troféu` tem um elemento novo junto ao caminho, o `<int:id>`. Isso indica que o subdomínio terá que receber um argumento (que aqui se chamará `id`) e que ele só poderá ser do tipo inteiro.<br>\n",
                "Repare que a função da página em `views.py` também tem como parâmetro de nome `id`.<br>\n",
                "Você pode ler mais sobre o assunto na [documentação das urls](https://docs.djangoproject.com/en/4.1/topics/http/urls/)."
            ]
        },
        {
            "attachments": {},
            "cell_type": "markdown",
            "metadata": {},
            "source": [
                "Para facilitar nosso desenvolvimento de dados, vamos usar uma biblioteca chamada `faker`, que servirá para gerar nossas datas e dados dos campeonatos. Veja o arquivo na pasta `/utils/trofeus/fabrica.py`."
            ]
        },
        {
            "attachments": {},
            "cell_type": "markdown",
            "metadata": {},
            "source": [
                "Usando ele, vamos chamar esses dados para dentro das nossas páginas usando o parâmetro `context` na view. Primeiro criamos a variável e salvamos o que criamos dentro dela, depois chamamos a variável para o `context`."
            ]
        },
        {
            "cell_type": "code",
            "execution_count": null,
            "metadata": {},
            "outputs": [],
            "source": [
                "# /futebol/gremio/views.py\n",
                "# cria a lista de vitórias\n",
                "lista_vitorias = [cria_vitoria() for _ in range(5)]\n",
                "\n",
                "def trofeus(request):\n",
                "    return render(request, 'gremio/paginas/trofeus.html', context={\n",
                "        'trofeus': lista_vitorias\n",
                "    })"
            ]
        },
        {
            "attachments": {},
            "cell_type": "markdown",
            "metadata": {},
            "source": [
                "Isso vai criar para nós 5 troféus aleatórios."
            ]
        },
        {
            "attachments": {},
            "cell_type": "markdown",
            "metadata": {},
            "source": [
                "## Tag {% for %} {% endfor %}"
            ]
        },
        {
            "cell_type": "markdown",
            "metadata": {},
            "source": [
                "\n",
                "Usando o `for do Django`, vamos exibir eles na nossa página de troféus, em vez de ficar inserindo manualmente."
            ]
        },
        {
            "cell_type": "code",
            "execution_count": null,
            "metadata": {
                "vscode": {
                    "languageId": "html"
                }
            },
            "outputs": [],
            "source": [
                "<!-- /futebol/gremio/templates/gremio/paginas/trofeus.html -->\n",
                "{% load static %}\n",
                "{% include 'gremio/parciais/head.html' %}\n",
                "<body>\n",
                "    {% include 'global/cabecalho.html' %}\n",
                "    <h1>Sou a página de TROFÉUS do GRÊMIO!</h1>\n",
                "    {% include 'gremio/parciais/menu.html' %}\n",
                "    <h2>Lista de troféus</h2>\n",
                "    <ul>\n",
                "        {% for vitoria in trofeus %}\n",
                "        <li><a href=\"trofeu/{{vitoria.ano}}\">{{vitoria.ano}} - {{vitoria.titulo}}</a></li>\n",
                "        {% endfor %}\n",
                "    </ul>\n",
                "</body>\n",
                "</html>"
            ]
        },
        {
            "attachments": {},
            "cell_type": "markdown",
            "metadata": {},
            "source": [
                "Quando o usuário clicar no link correspondente, vai ser encaminhado para a página da vitória através da função trofeu, que vai recuperar o campeonato em questão."
            ]
        },
        {
            "cell_type": "code",
            "execution_count": null,
            "metadata": {},
            "outputs": [],
            "source": [
                "# futebol/gremio/views.py\n",
                "def trofeu(request, id):\n",
                "    for item in lista_vitorias:\n",
                "        if item['ano'] == id:\n",
                "            vitoria = item\n",
                "            break\n",
                "    return render(request, 'gremio/paginas/trofeu.html', context={\n",
                "        'vitoria': vitoria\n",
                "    })"
            ]
        },
        {
            "cell_type": "code",
            "execution_count": null,
            "metadata": {
                "vscode": {
                    "languageId": "html"
                }
            },
            "outputs": [],
            "source": [
                "<!-- /futebol/gremio/templates/gremio/paginas/trofeu.html -->\n",
                "{% include 'gremio/parciais/head.html' %}\n",
                "<body>\n",
                "    <h1>{{vitoria.titulo}}</h1>\n",
                "    sou a página do troféu\n",
                "</body>\n",
                "</html>"
            ]
        },
        {
            "attachments": {},
            "cell_type": "markdown",
            "metadata": {},
            "source": [
                "Agora, vamos repetir o processo para os demais aplicativos."
            ]
        },
        {
            "attachments": {},
            "cell_type": "markdown",
            "metadata": {},
            "source": [
                "## Tag {% if %} {% elif %} {% else %} {% endif %}"
            ]
        },
        {
            "attachments": {},
            "cell_type": "markdown",
            "metadata": {},
            "source": [
                "Usando a tag `{% if %}`, podemos colocar uma condição para não exibir algum conteúdo, caso ele não exista.\n",
                "\n",
                "Por exemplo, se nossa equipe (aplicativo) não tiver qualquer troféu."
            ]
        },
        {
            "cell_type": "code",
            "execution_count": null,
            "metadata": {
                "vscode": {
                    "languageId": "html"
                }
            },
            "outputs": [],
            "source": [
                "<ul>\n",
                "{% if trofeus %}\n",
                "    {% for vitoria in trofeus %}\n",
                "    <li><a href=\"trofeu/{{vitoria.ano}}\">{{vitoria.ano}} - {{vitoria.titulo}}</a></li>\n",
                "    {% endfor %}\n",
                "{% else %}\n",
                "    <li>Esse time não possui títulos.</li>\n",
                "{% endif %}\n",
                "</ul>"
            ]
        },
        {
            "attachments": {},
            "cell_type": "markdown",
            "metadata": {},
            "source": [
                "## Herança de Templates"
            ]
        },
        {
            "attachments": {},
            "cell_type": "markdown",
            "metadata": {},
            "source": [
                "Herança de templates é usado para diminuir ainda mais a repetição de código.\n",
                "\n",
                "Como estamos vendo, nosso site tem um certo padrão nas páginas de listar troféus, exibir um troféu, etc. Por mais que tenhamos otimizado, ainda daria um certo trabalho se tivéssemos 20 times registrados e tivéssemos que alterar 20 páginas de troféus. Então, para isso usamos a herança de templates."
            ]
        },
        {
            "attachments": {},
            "cell_type": "markdown",
            "metadata": {},
            "source": [
                "Ele nos permite construir um esqueleto para nosso site que vai ter todos os elementos mais comuns do nosso site e definimos blocos que as páginas que herdarão poderão alterar seu conteúdo.\n",
                "\n",
                "Por exemplo, veja a página fictícia `base.html` abaixo :"
            ]
        },
        {
            "cell_type": "code",
            "execution_count": null,
            "metadata": {
                "vscode": {
                    "languageId": "html"
                }
            },
            "outputs": [],
            "source": [
                "{% load static %}\n",
                "<!DOCTYPE html>\n",
                "<html lang=\"en\">\n",
                "<head>\n",
                "    <link rel=\"stylesheet\" href=\"{% static 'global/css/estilo.css' %}\">\n",
                "    {% block css_app %}{% endblock css_app %}\n",
                "    <title>{% block titulo %}TÍTULO CONTATO PADRÃO{% endblock %}</title>\n",
                "</head>\n",
                "<body>\n",
                "    {% block tag_h1 %}<h1>Sou a <b>CONTATO</b> geral</h1>{% endblock tag_h1 %}\n",
                "    {% block menu %} <div>Menu do Site</div> {% endblock menu %}\n",
                "    {% block responsavel %}\n",
                "    <ul>\n",
                "        <li>Não há responsáveis</li>\n",
                "    </ul>\n",
                "    {% endblock responsavel %}\n",
                "</body>\n",
                "</html>"
            ]
        },
        {
            "attachments": {},
            "cell_type": "markdown",
            "metadata": {},
            "source": [
                "Depois de criado a base das nossas páginas, basta herdarmos ela e realizarmos as alterações que queremos. O que não alterarmos do `base.html`, será carregado com a mensagem padrão."
            ]
        },
        {
            "cell_type": "code",
            "execution_count": null,
            "metadata": {
                "vscode": {
                    "languageId": "html"
                }
            },
            "outputs": [],
            "source": [
                "{% extends 'base.html' %}\n",
                "\n",
                "{% block css_app %}\n",
                "    <link rel=\"stylesheet\" href=\"{% static 'inter/css/estilo.css' %}\">\n",
                "{% endblock css_app %}\n",
                "\n",
                "{% block titulo %}CONTATO INTER{% endblock titulo %}\n",
                "\n",
                "<!-- repare que não importei o tag_h1, logo ele terá o valor padrão do base.html -->\n",
                "\n",
                "{% block menu %}\n",
                "    {% include 'inter/parciais/menu.html' %}\n",
                "{% endblock menu %}\n",
                "\n",
                "{% block responsavel %}\n",
                "<ul>\n",
                "{% for pessoa in pessoas %}\n",
                "    <li>{{pessoa.nome}}</li>\n",
                "{% endfor %}\n",
                "</ul>\n",
                "{% endblock responsavel %}"
            ]
        },
        {
            "attachments": {},
            "cell_type": "markdown",
            "metadata": {},
            "source": [
                "Agora, vamos aplicar esse conceito para todas as nossas páginas já criadas."
            ]
        },
        {
            "cell_type": "markdown",
            "metadata": {},
            "source": [
                "## Criando a Home"
            ]
        },
        {
            "attachments": {},
            "cell_type": "markdown",
            "metadata": {},
            "source": [
                "Como já deve ter reparado, nosso projeto não tem uma página inicial, uma home. Quando vamos no endereço `http://127.0.0.1:8000/`, somos apresentado à seguinte mensagem :\n",
                "\n",
                "```html\n",
                "Page not found (404)\n",
                "    Request Method:\tGET\n",
                "    Request URL:\thttp://127.0.0.1:8000/\n",
                "\n",
                "Using the URLconf defined in futebol.urls, Django tried these URL patterns, in this order:\n",
                "\n",
                "    1. admin/\n",
                "    2. gremio/\n",
                "    3. inter/\n",
                "The empty path didn’t match any of these.\n",
                "\n",
                "You’re seeing this error because you have DEBUG = True in your Django settings file. Change that to False, and Django will display a standard 404 page.\n",
                "```"
            ]
        },
        {
            "attachments": {},
            "cell_type": "markdown",
            "metadata": {},
            "source": [
                "Então, vamos criar um novo aplicativo para nosso projeto, para fazer esse trabalho de `home`."
            ]
        },
        {
            "cell_type": "code",
            "execution_count": null,
            "metadata": {
                "vscode": {
                    "languageId": "shellscript"
                }
            },
            "outputs": [],
            "source": [
                "# no terminal do VS Code\n",
                "(.venv) C:\\Users\\<seu usuario>\\Desktop\\futebol>python manage.py startapp home"
            ]
        },
        {
            "attachments": {},
            "cell_type": "markdown",
            "metadata": {},
            "source": [
                "Isso vai criar uma nova pasta `home` na raiz do nosso projeto. \n",
                "```\n",
                "futebol/\n",
                "    manage.py\n",
                "    futebol/\n",
                "    gremio/\n",
                "    inter/\n",
                "    home/      <-- pasta criada\n",
                "        migrations/\n",
                "            __init__.py\n",
                "        __init__.py\n",
                "        admin.py\n",
                "        apps.py\n",
                "        models.py\n",
                "        tests.py\n",
                "        views.py\n",
                "```"
            ]
        },
        {
            "attachments": {},
            "cell_type": "markdown",
            "metadata": {},
            "source": [
                "Assim como nos aplicativos anteriores, temos que registrar ele no `/futebol/futebol/settings.py` e adicionar o caminho dele no `/futebol/futebol/urls.py`.\n",
                "\n",
                "E também temos que criar as pastas para o namespace do aplicativo e adicionar o módulo `urls.py`.\n",
                "\n",
                "```\n",
                "futebol/\n",
                "    manage.py\n",
                "    futebol/\n",
                "    gremio/\n",
                "    inter/\n",
                "    home/\n",
                "        migrations/\n",
                "            __init__.py\n",
                "        static/     <-- pasta criada\n",
                "            home/\n",
                "                css/\n",
                "                    estilo.css\n",
                "        templates/  <-- pasta criada\n",
                "            home/\n",
                "                paginas/\n",
                "                    home.html\n",
                "                parciais/\n",
                "                    head.html\n",
                "        __init__.py\n",
                "        admin.py\n",
                "        apps.py\n",
                "        models.py\n",
                "        tests.py\n",
                "        urls.py     <-- módulo criado\n",
                "        views.py\n",
                "```"
            ]
        },
        {
            "attachments": {},
            "cell_type": "markdown",
            "metadata": {},
            "source": [
                "Depois de criados as pastas e os arquivos HTMLs, criaremos a função na `/futebol/home/views.py` que irá chamar a `home.html` e adicionamos o path no arquivo `/futebol/home/urls.py` que chamará a função criada.\n",
                "\n",
                "Para os arquivos `home.html` (com o body e importando o head do home e o cabecçalho do global) e `head.html` (com a head), vamos deixar o código básico de cada um. Para o arquivo `estilo.css`, preencha com o que lhe melhor conver."
            ]
        },
        {
            "attachments": {},
            "cell_type": "markdown",
            "metadata": {},
            "source": [
                "Para essa navegação funcionar como queremos, teremos que criar mais dois arquivos parciais :\n",
                "- `menu.html` : que terá um menu de navegação para os aplicativos `gremio` e `inter`;\n",
                "- `menu-home.html` : será o arquivo que conterá o link para retornarmos à página principal do nosso projeto;\n",
                "\n",
                "Depois de criado os arquivos, vamos importar o `/home/parciais/menu.html` para a o arquivo `/home/paginas/home.html`, isso irá carregar o menu para os demais aplicativos na nossa página inicial. Já o arquivo `/home/parciais/menu-home.html` vamos importar nos arquivos de menu em todos os nossos aplicativos.\n",
                "\n",
                "Agora temos uma forma de, dentro dos aplicativos, voltar à página inicial."
            ]
        },
        {
            "attachments": {},
            "cell_type": "markdown",
            "metadata": {},
            "source": [
                "## Modelos"
            ]
        },
        {
            "attachments": {},
            "cell_type": "markdown",
            "metadata": {},
            "source": [
                "Os modelos são criados no Django para que possamos fazer com que a nossa aplicação salve em um bando de dados.\n",
                "\n",
                "Para fazer isso, abriremos o arquivo `/futebol/gremio/models.py`.\n",
                "Lá, vamos criar a classe para gerenciar os troféus da nossa equipe e também a classe para gerenciar as categorias da nossa equipe."
            ]
        },
        {
            "cell_type": "code",
            "execution_count": null,
            "metadata": {},
            "outputs": [],
            "source": [
                "# /futebol/gremio/models.py\n",
                "from django.contrib.auth.models import User\n",
                "from django.db import models\n",
                "\n",
                "\n",
                "class Categoria(models.Model):\n",
                "    titulo = models.CharField(max_length=120)\n",
                "\n",
                "\n",
                "class Campeonato(models.Model):\n",
                "    titulo = models.CharField(max_length=120)\n",
                "    descricao = models.TextField()\n",
                "    categoria = models.CharField(max_length=120)\n",
                "    slug = models.SlugField()  # urls\n",
                "    ano_conq = models.IntegerField()\n",
                "    data_campeao = models.DateField()\n",
                "    tec_nome = models.CharField(max_length=120)\n",
                "    tec_sobrenome = models.CharField(max_length=120)\n",
                "    categoria = models.CharField(max_length=50)\n",
                "    criado_em = models.DateTimeField(auto_now_add=True)\n",
                "    atualizado_em = models.DateTimeField(auto_now=True)\n",
                "    e_publicado = models.BooleanField(default=False)\n",
                "    foto = models.ImageField(upload_to='imagens/%Y/%m/%d/')\n",
                "    categoria = models.ForeignKey(\n",
                "        Categoria, on_delete=models.SET_NULL, null=True)\n",
                "    usuario = models.ForeignKey(\n",
                "        User, on_delete=models.SET_NULL, null=True)"
            ]
        },
        {
            "attachments": {},
            "cell_type": "markdown",
            "metadata": {},
            "source": [
                "Alguns pontos :\n",
                "- o campo slug será usado para criarmos uma url com base en algum texto;\n",
                "- vários campos são semelhantes aos usados no banco de dados;\n",
                "- repare que usamos a classe ForeignKey para criar uma relação entre duas tabelas;\n",
                "- e agora, estamos vendo o primeiro uso da classe User;"
            ]
        },
        {
            "attachments": {},
            "cell_type": "markdown",
            "metadata": {},
            "source": [
                "Provavelmente teremos um erro ao salvar o código acima, já que ainda não temos instalado a biblitecla Pillow no nosso ambiente virtual. Para isso, executamos no terinal :"
            ]
        },
        {
            "cell_type": "code",
            "execution_count": null,
            "metadata": {
                "vscode": {
                    "languageId": "shellscript"
                }
            },
            "outputs": [],
            "source": [
                "(.venv) C:\\Users\\<seu usuario>\\Desktop\\futebol>pip install pillow"
            ]
        },
        {
            "attachments": {},
            "cell_type": "markdown",
            "metadata": {},
            "source": [
                "Após a instalação, esse erro deve sumir. Agora, vamos finalmente resolver outro antigo erro que temos presenciado desde o primeiro dia de aula.\n",
                "\n",
                "**<font color='red'>You have 18 unapplied migration(s). Your project may not work properly until you apply the migrations for app(s): admin, auth, contenttypes, sessions.<br>\n",
                "Run 'python manage.py migrate' to apply them.</font>**"
            ]
        },
        {
            "attachments": {},
            "cell_type": "markdown",
            "metadata": {},
            "source": [
                "Ao executar o comando pedido acima, o Django vai coisas salvar na base de dados. Depois de executado, vamos realizar a migração das nossas classes para o banco de dados.\n",
                "\n",
                "Iremos executar o comando :"
            ]
        },
        {
            "cell_type": "code",
            "execution_count": null,
            "metadata": {
                "vscode": {
                    "languageId": "shellscript"
                }
            },
            "outputs": [],
            "source": [
                "(.venv) C:\\Users\\<seu usuario>\\Desktop\\futebol>python manage.py makemigrations"
            ]
        },
        {
            "attachments": {},
            "cell_type": "markdown",
            "metadata": {},
            "source": [
                "Com isso, será gerado um script python na pasta `futebol/gremio/migrations/` chamado `0001_initial.py`. Esse arquivo será o responsável por criar as tabelas no nosso arquivo `db.sqlite3`.\n",
                "\n",
                "Agora, executamos novamente o comando abaixo :"
            ]
        },
        {
            "cell_type": "code",
            "execution_count": null,
            "metadata": {
                "vscode": {
                    "languageId": "shellscript"
                }
            },
            "outputs": [],
            "source": [
                "(.venv) C:\\Users\\<seu usuario>\\Desktop\\futebol>python manage.py migrate"
            ]
        },
        {
            "attachments": {},
            "cell_type": "markdown",
            "metadata": {},
            "source": [
                "Isso irá gerar em definitivo as nossas tabelas do aplicativo. Podemos conferir o conteúdo usando *SQLite Studio*.\n",
                "\n",
                "Agora, podemos gerar dados para nosso aplicativo.\n",
                "\n",
                "Para saber mais sobre os campos do Model, veja a documentação do Django [Model field reference](https://docs.djangoproject.com/pt-br/4.1/ref/models/fields/)."
            ]
        },
        {
            "attachments": {},
            "cell_type": "markdown",
            "metadata": {},
            "source": [
                "## Inserindo Dados"
            ]
        },
        {
            "attachments": {},
            "cell_type": "markdown",
            "metadata": {},
            "source": [
                "Agora que temos as tabelas criadas, podemos inserir dados nelas. Para isso, temos que acessar a página adminstrativa do Django através da url `http://127.0.0.1:8000/admin`."
            ]
        },
        {
            "attachments": {},
            "cell_type": "markdown",
            "metadata": {},
            "source": [
                "Se tentarmos acessar, não será possível, pois ainda não criamos as credenciais para isso. Para criar, vamos abrir o terminal :"
            ]
        },
        {
            "cell_type": "code",
            "execution_count": null,
            "metadata": {
                "vscode": {
                    "languageId": "shellscript"
                }
            },
            "outputs": [],
            "source": [
                "(.venv) C:\\Users\\<seu usuario>\\Desktop\\futebol>python manage.py createsuperuser"
            ]
        },
        {
            "attachments": {},
            "cell_type": "markdown",
            "metadata": {},
            "source": [
                "Em seguida, temos que criar nosso usário admin. Após criado, podemos acessar a página.\n",
                "\n",
                "Depois de explorar a página adminstrativa, podemos ver que estão faltando os modelos que criamos para nosso projeto.\n",
                "\n",
                "Para eles aparecerem lá, temos que ir no arquivo `/futebol/gremio/admin.py`. Lá, adicionamos o seguinte código :"
            ]
        },
        {
            "cell_type": "code",
            "execution_count": null,
            "metadata": {},
            "outputs": [],
            "source": [
                "# /futebol/gremio/admin.py\n",
                "from django.contrib import admin\n",
                "from .models import Campeonato\n",
                "\n",
                "class CategoriaAdmin(admin.ModelAdmin):\n",
                "    # adicionaremos mais coisa aqui depois, por hora, pode ficar vazio\n",
                "    ...\n",
                "\n",
                "admin.site.register(Categoria, CategoriaAdmin)"
            ]
        },
        {
            "attachments": {},
            "cell_type": "markdown",
            "metadata": {},
            "source": [
                "Se formos na página adminstrativa, podemos ver que a sessão **Categoria** agora está disponível.\n",
                "\n",
                "Se adicionarmos coisas lá dentro, podemos ver que não irá aparecer bem o nome dela, mas sim algo como `Categoria object(n)`.<br>\n",
                "Para corrigir isso, vamos até a classe Categoria e criamos o método mágico `__str__` para retornar o nome dela."
            ]
        },
        {
            "cell_type": "code",
            "execution_count": null,
            "metadata": {},
            "outputs": [],
            "source": [
                "# /futebol/gremio/model.py > class Categoria\n",
                "def __str__(self) -> str:\n",
                "        return str(self.titulo)"
            ]
        },
        {
            "attachments": {},
            "cell_type": "markdown",
            "metadata": {},
            "source": [
                "Agora, o texto está sendo apresentado como o esperado na página."
            ]
        },
        {
            "attachments": {},
            "cell_type": "markdown",
            "metadata": {},
            "source": [
                "Agora, vamos registrar os campeonatos :"
            ]
        },
        {
            "cell_type": "code",
            "execution_count": null,
            "metadata": {},
            "outputs": [],
            "source": [
                "# /futebol/gremio/admin.py\n",
                "\n",
                "# esta é outra forma de fazer usando decorators\n",
                "@admin.register(Campeonato)\n",
                "class CampeonatoAdmin(admin.ModelAdmin):\n",
                "    ..."
            ]
        },
        {
            "attachments": {},
            "cell_type": "markdown",
            "metadata": {},
            "source": [
                "Você pode ler mais sobre decorators aqui [Primer on Python Decorators](https://realpython.com/primer-on-python-decorators/)."
            ]
        },
        {
            "attachments": {},
            "cell_type": "markdown",
            "metadata": {},
            "source": [
                "Agora, a sessão de Campeonato também já deve estar disponível para nós. E também já podemos adicinar, consultar, editar e apagar os dados."
            ]
        },
        {
            "attachments": {},
            "cell_type": "markdown",
            "metadata": {},
            "source": [
                "Se observarmos, veremos que a pasta image foi criada dentro do aplicativo, enquanto que o ideal seria ser criada fora dele, para todos os aplicativos. Se tentarmos carregar, ela também não é encontrada.\n",
                "\n",
                "Para isso, temos que ir no arquivo settings.py e dizer para o Django onde queremos que a imagem seja salva e de onde ela deve ser carregada."
            ]
        },
        {
            "cell_type": "code",
            "execution_count": null,
            "metadata": {},
            "outputs": [],
            "source": [
                "# /futebol/futebol/settings.py\n",
                "\n",
                "MEDIA_URL = '/imagens/'\n",
                "MEDIA_ROOT = BASE_DIR / 'imagens'"
            ]
        },
        {
            "attachments": {},
            "cell_type": "markdown",
            "metadata": {},
            "source": [
                "Se carregarmos uma nova imagem, ela estará no local certo agora.\n",
                "\n",
                "Agora, para carregar a imagem, temos que ir no arquivo `/futebol/futebol/urls.py` e adicionar :"
            ]
        },
        {
            "cell_type": "code",
            "execution_count": null,
            "metadata": {},
            "outputs": [],
            "source": [
                "# /futebol/futebol/urls.py\n",
                "from django.conf.urls.static import static\n",
                "from django.conf import settings\n",
                "\n",
                "urlpatterns += static(settings.MEDIA_URL, document_root=settings.MEDIA_ROOT)"
            ]
        },
        {
            "attachments": {},
            "cell_type": "markdown",
            "metadata": {},
            "source": [
                "Agora, nossas imagens estão sendo carregadas corretamente."
            ]
        }
    ],
    "metadata": {
        "kernelspec": {
            "display_name": "Python 3",
            "language": "python",
            "name": "python3"
        },
        "language_info": {
            "codemirror_mode": {
                "name": "ipython",
                "version": 3
            },
            "file_extension": ".py",
            "mimetype": "text/x-python",
            "name": "python",
            "nbconvert_exporter": "python",
            "pygments_lexer": "ipython3",
            "version": "3.11.1"
        },
        "orig_nbformat": 4,
        "vscode": {
            "interpreter": {
                "hash": "5238573367df39f7286bb46f9ff5f08f63a01a80960060ce41e3c79b190280fa"
            }
        }
    },
    "nbformat": 4,
    "nbformat_minor": 2
}
